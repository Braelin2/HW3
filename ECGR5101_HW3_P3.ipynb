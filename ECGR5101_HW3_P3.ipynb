{
  "nbformat": 4,
  "nbformat_minor": 0,
  "metadata": {
    "colab": {
      "provenance": [],
      "authorship_tag": "ABX9TyNe2EL1zu9MZk4Az2y4aEGY",
      "include_colab_link": true
    },
    "kernelspec": {
      "name": "python3",
      "display_name": "Python 3"
    },
    "language_info": {
      "name": "python"
    }
  },
  "cells": [
    {
      "cell_type": "markdown",
      "metadata": {
        "id": "view-in-github",
        "colab_type": "text"
      },
      "source": [
        "<a href=\"https://colab.research.google.com/github/Braelin2/HW3/blob/main/ECGR5101_HW3_P3.ipynb\" target=\"_parent\"><img src=\"https://colab.research.google.com/assets/colab-badge.svg\" alt=\"Open In Colab\"/></a>"
      ]
    },
    {
      "cell_type": "code",
      "execution_count": null,
      "metadata": {
        "id": "D50aF9e5WKnW",
        "colab": {
          "base_uri": "https://localhost:8080/"
        },
        "outputId": "217a5c08-3ed3-4df5-d4c5-4a0c49e337bf"
      },
      "outputs": [
        {
          "output_type": "stream",
          "name": "stdout",
          "text": [
            "Mounted at /content/drive\n"
          ]
        }
      ],
      "source": [
        "import numpy as np\n",
        "import pandas as pd\n",
        "import matplotlib.pyplot as plt\n",
        "import seaborn as sns\n",
        "\n",
        "from google.colab import drive\n",
        "drive.mount('/content/drive')"
      ]
    },
    {
      "cell_type": "code",
      "source": [
        "file_path = '/content/drive/My Drive/ECGR5105/cancer.csv'\n",
        "dataset = pd.DataFrame(pd.read_csv(file_path))"
      ],
      "metadata": {
        "id": "zZpYQzTLWP6P"
      },
      "execution_count": null,
      "outputs": []
    },
    {
      "cell_type": "code",
      "source": [
        "convlist =  ['diagnosis']\n",
        "# Defining the map function\n",
        "def binary_map(x):\n",
        "    return x.map({'M': 1, 'B': 0})\n",
        "\n",
        "# Applying the function to the housing list\n",
        "dataset[convlist] = dataset[convlist].apply(binary_map)"
      ],
      "metadata": {
        "id": "pLVCThn9WR1B"
      },
      "execution_count": null,
      "outputs": []
    },
    {
      "cell_type": "code",
      "source": [
        "X = dataset.iloc[:, 2:32].values\n",
        "Y = dataset.iloc[:, 1].values"
      ],
      "metadata": {
        "id": "B4m24jRqWTnW"
      },
      "execution_count": null,
      "outputs": []
    },
    {
      "cell_type": "code",
      "source": [
        "from sklearn.model_selection import train_test_split\n",
        "\n",
        "np.random.seed(0)\n",
        "X_train, X_test, Y_train, Y_test = train_test_split(X, Y, train_size = 0.8, test_size = 0.2, random_state = 100)"
      ],
      "metadata": {
        "id": "dUjUFmT2WVYM"
      },
      "execution_count": null,
      "outputs": []
    },
    {
      "cell_type": "code",
      "source": [
        "# Gaussian Naive Bayes\n",
        "from sklearn import datasets\n",
        "from sklearn import metrics\n",
        "from sklearn.metrics import confusion_matrix\n",
        "from sklearn.naive_bayes import GaussianNB\n",
        "\n",
        "classifier_naive = GaussianNB()\n",
        "classifier_naive.fit(X_train,Y_train)\n",
        "\n",
        "Prediction = classifier_naive.predict(X_test)\n",
        "\n",
        "\n",
        "#Gettings the accuracy, precision, recall, and f1 score\n",
        "print(\"Accuracy:\",metrics.accuracy_score(Y_test, Prediction))\n",
        "print(\"Precision:\",metrics.precision_score(Y_test, Prediction))\n",
        "print(\"Recall:\",metrics.recall_score(Y_test, Prediction))\n",
        "print(\"F1 Score:\", metrics.f1_score(Y_test, Prediction))\n",
        "\n",
        "#plotting confusion matrix\n",
        "matrix = confusion_matrix(Y_test, Prediction)\n",
        "\n",
        "classes =[0,1]\n",
        "fig, ax = plt.subplots()\n",
        "lines = np.arange(len(classes))\n",
        "plt.xticks(lines, classes)\n",
        "plt.yticks(lines, classes)\n",
        "# create heatmap\n",
        "sns.heatmap(pd.DataFrame(matrix), annot=True, cmap=\"YlGnBu\" ,fmt='g')\n",
        "ax.xaxis.set_label_position(\"top\")\n",
        "plt.tight_layout()\n",
        "plt.title('Confusion Matrix', y=1.1)\n",
        "plt.ylabel('Actual label')\n",
        "plt.xlabel('Predicted label')"
      ],
      "metadata": {
        "colab": {
          "base_uri": "https://localhost:8080/",
          "height": 638
        },
        "id": "3vD5p3L_FHIj",
        "outputId": "bdb92e19-ad44-48d4-f365-608364250d87"
      },
      "execution_count": null,
      "outputs": [
        {
          "output_type": "stream",
          "name": "stdout",
          "text": [
            "Accuracy: 0.9298245614035088\n",
            "Precision: 0.9361702127659575\n",
            "Recall: 0.8979591836734694\n",
            "F1 Score: 0.9166666666666666\n"
          ]
        },
        {
          "output_type": "execute_result",
          "data": {
            "text/plain": [
              "Text(0.5, 427.9555555555555, 'Predicted label')"
            ]
          },
          "metadata": {},
          "execution_count": 17
        },
        {
          "output_type": "display_data",
          "data": {
            "text/plain": [
              "<Figure size 640x480 with 2 Axes>"
            ],
            "image/png": "[encoded data removed]"
          },
          "metadata": {}
        }
      ]
    }
  ]
}